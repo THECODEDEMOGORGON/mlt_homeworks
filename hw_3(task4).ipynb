{
 "cells": [
  {
   "cell_type": "code",
   "execution_count": 34,
   "metadata": {},
   "outputs": [],
   "source": [
    "import matplotlib.pyplot as plt\n",
    "import pandas as pd\n",
    "import numpy as np\n",
    "\n",
    "from sklearn.model_selection import train_test_split\n",
    "from sklearn.preprocessing import StandardScaler\n",
    "\n",
    "from tqdm.notebook import tqdm\n"
   ]
  },
  {
   "cell_type": "code",
   "execution_count": 14,
   "metadata": {},
   "outputs": [],
   "source": [
    "# sigmoid\n",
    "\n",
    "def sigmoid(z):\n",
    "    \"\"\"\n",
    "    Compute the sigmoid of z\n",
    "\n",
    "    Arguments:\n",
    "    z -- A scalar or numpy array of any size.\n",
    "\n",
    "    Return:\n",
    "    s -- sigmoid(z)\n",
    "    \"\"\"\n",
    "    s = 1./(1.+np.exp(-z))\n",
    "\n",
    "    return s\n",
    "\n",
    "# initialize_with_zeros\n",
    "\n",
    "def initialize_with_zeros(dim):\n",
    "    \"\"\"\n",
    "    This function creates a vector of zeros of shape (dim, 1) for w and initializes b to 0.\n",
    "\n",
    "    Argument:\n",
    "    dim -- size of the w vector we want (or number of parameters in this case)\n",
    "\n",
    "    Returns:\n",
    "    w -- initialized vector of shape (dim, 1)\n",
    "    b -- initialized scalar (corresponds to the bias)\n",
    "    \"\"\"\n",
    "    w = np.zeros((dim,1))\n",
    "    b = 0.\n",
    "\n",
    "    return w, b\n",
    "\n",
    "\n",
    "# propagate\n",
    "def propagate(w, b, X, Y):\n",
    "    m = X.shape[1]\n",
    "\n",
    "    # Forward propagation\n",
    "    Z = np.dot(w.T, X) + b\n",
    "    A = 1 / (1 + np.exp(-Z))\n",
    "\n",
    "    # Compute cost\n",
    "    epsilon = 1e-10  # Small epsilon value to avoid division by zero\n",
    "    clipped_A = np.clip(A, epsilon, 1 - epsilon)  # Clip values to avoid log(0) or log(1)\n",
    "    cost = -(1./m) * np.sum(Y * np.log(clipped_A) + (1 - Y) * np.log(1 - clipped_A), axis=1)\n",
    "\n",
    "    # Backward propagation\n",
    "    dz = A - Y\n",
    "    dw = (1./m) * np.dot(X, dz.T)\n",
    "    db = (1./m) * np.sum(dz)\n",
    "\n",
    "    grads = {\"dw\": dw, \"db\": db}\n",
    "    return grads, cost\n",
    "\n",
    "\n",
    "# optimize\n",
    "\n",
    "def optimize(w, b, X, Y, num_iterations, learning_rate, print_cost = False):\n",
    "    \"\"\"\n",
    "    This function optimizes w and b by running a gradient descent algorithm\n",
    "\n",
    "    Arguments:\n",
    "    w -- weights, a numpy array\n",
    "    b -- bias, a scalar\n",
    "    X -- data\n",
    "    Y -- true \"label\" vector (containing 0 and 1), of shape (1, number of examples)\n",
    "    num_iterations -- number of iterations of the optimization loop\n",
    "    learning_rate -- learning rate of the gradient descent update rule\n",
    "    print_cost -- True to print the loss every 100 steps\n",
    "\n",
    "    Returns:\n",
    "    params -- dictionary containing the weights w and bias b\n",
    "    grads -- dictionary containing the gradients of the weights and bias with respect to the cost function\n",
    "    costs -- list of all the costs computed during the optimization, this will be used to plot the learning curve.\n",
    "\n",
    "    \"\"\"\n",
    "\n",
    "    costs = []\n",
    "\n",
    "    for i in range(num_iterations):\n",
    "\n",
    "        # Cost and gradient calculation\n",
    "        grads, cost = propagate(w,b,X,Y)\n",
    "\n",
    "        # Retrieve derivatives from grads\n",
    "        dw = grads[\"dw\"]\n",
    "        db = grads[\"db\"]\n",
    "\n",
    "        # update rule\n",
    "        w -=learning_rate*dw\n",
    "        b -=learning_rate*db\n",
    "\n",
    "        # Record the costs\n",
    "        if i % 100 == 0:\n",
    "            costs.append(cost)\n",
    "\n",
    "        # Print the cost every 100 training iterations\n",
    "        if print_cost and i % 100 == 0:\n",
    "            print (\"Cost after iteration %i: %f\" %(i, cost))\n",
    "\n",
    "    params = {\"w\": w,\n",
    "              \"b\": b}\n",
    "\n",
    "    grads = {\"dw\": dw,\n",
    "             \"db\": db}\n",
    "\n",
    "    return params, grads, costs\n"
   ]
  },
  {
   "cell_type": "markdown",
   "metadata": {},
   "source": [
    "### 1. Applying logreg"
   ]
  },
  {
   "cell_type": "code",
   "execution_count": 15,
   "metadata": {},
   "outputs": [
    {
     "name": "stdout",
     "output_type": "stream",
     "text": [
      "Cost after iteration 0: 0.693147\n",
      "Cost after iteration 100: 0.470840\n",
      "Cost after iteration 200: 0.426780\n",
      "Cost after iteration 300: 0.402530\n",
      "Cost after iteration 400: 0.386057\n",
      "Cost after iteration 500: 0.373656\n",
      "Cost after iteration 600: 0.363736\n",
      "Cost after iteration 700: 0.355476\n",
      "Cost after iteration 800: 0.348402\n",
      "Cost after iteration 900: 0.342218\n",
      "Test accuracy: 75.37%\n"
     ]
    }
   ],
   "source": [
    "data = pd.read_csv('bioresponse.csv')\n",
    "\n",
    "X = data.drop('Activity', axis=1)\n",
    "Y = data['Activity']\n",
    "\n",
    "X_train, X_test, Y_train, Y_test = train_test_split(X, Y, test_size=0.25, random_state=42)\n",
    "\n",
    "scaler = StandardScaler()\n",
    "X_train = scaler.fit_transform(X_train)\n",
    "X_test = scaler.transform(X_test)\n",
    "\n",
    "w = np.zeros((X_train.shape[1], 1))\n",
    "b = 0\n",
    "\n",
    "num_iterations = 1000\n",
    "learning_rate = 0.01\n",
    "\n",
    "params, grads, costs = optimize(w, b, X_train.T, Y_train.values.reshape(1, -1), num_iterations, learning_rate, print_cost=True)\n",
    "\n",
    "w = params['w']\n",
    "b = params['b']\n",
    "\n",
    "predictions = (np.dot(w.T, X_test.T) + b > 0.5).astype(int)\n",
    "\n",
    "accuracy = np.mean(predictions == Y_test.values.reshape(1, -1))\n",
    "print(\"Test accuracy: {:.2f}%\".format(accuracy * 100))\n"
   ]
  },
  {
   "cell_type": "markdown",
   "metadata": {},
   "source": [
    "### 2. Applying logreg with sgd and adam optimizers"
   ]
  },
  {
   "cell_type": "code",
   "execution_count": 29,
   "metadata": {},
   "outputs": [],
   "source": [
    "def optimize_sgd_batch(w, b, X, Y, num_iterations, learning_rate, batch_size=32, print_cost=False):\n",
    "    costs = []\n",
    "    m = X.shape[1]  # number of training examples\n",
    "\n",
    "    for i in range(num_iterations):\n",
    "        # Shuffle the data and split into batches\n",
    "        permutation = np.random.permutation(m)\n",
    "        shuffled_X = X[:, permutation]\n",
    "        shuffled_Y = Y[:, permutation]\n",
    "\n",
    "        for j in range(0, m, batch_size):\n",
    "            # Get mini-batch\n",
    "            x_batch = shuffled_X[:, j:j+batch_size]\n",
    "            y_batch = shuffled_Y[:, j:j+batch_size]\n",
    "\n",
    "            # Cost and gradient calculation for the mini-batch\n",
    "            grads, cost = propagate(w, b, x_batch, y_batch)\n",
    "\n",
    "            # Retrieve derivatives from grads\n",
    "            dw = grads[\"dw\"]\n",
    "            db = grads[\"db\"]\n",
    "\n",
    "            # Update rule\n",
    "            w -= learning_rate * dw\n",
    "            b -= learning_rate * db\n",
    "\n",
    "        # Calculate cost for the entire training set\n",
    "        if i % 100 == 0:\n",
    "            _, cost = propagate(w, b, X, Y)\n",
    "            costs.append(cost)\n",
    "            if print_cost:\n",
    "                print(\"Cost after iteration %i: %f\" % (i, cost))\n",
    "\n",
    "    params = {\"w\": w, \"b\": b}\n",
    "    grads = {\"dw\": dw, \"db\": db}\n",
    "\n",
    "    return params, grads, costs\n",
    "\n",
    "def optimize_adam(w, b, X, Y, num_iterations, learning_rate=0.001, beta1=0.9, beta2=0.999, epsilon=1e-8, print_cost=False):\n",
    "    costs = []\n",
    "    m = X.shape[1]  # number of training examples\n",
    "    t = 1\n",
    "    v_dw, v_db = 0, 0\n",
    "    s_dw, s_db = 0, 0\n",
    "\n",
    "    for i in range(num_iterations):\n",
    "        t+=1\n",
    "        # Cost and gradient calculation\n",
    "        grads, cost = propagate(w, b, X, Y)\n",
    "        dw = grads[\"dw\"]\n",
    "        db = grads[\"db\"]\n",
    "\n",
    "        # Update biased first moment estimate\n",
    "        v_dw = beta1 * v_dw + (1 - beta1) * dw\n",
    "        v_db = beta1 * v_db + (1 - beta1) * db\n",
    "\n",
    "        # Update biased second moment estimate\n",
    "        s_dw = beta2 * s_dw + (1 - beta2) * (dw ** 2)\n",
    "        s_db = beta2 * s_db + (1 - beta2) * (db ** 2)\n",
    "\n",
    "        # Correct bias in first moment\n",
    "        v_dw_corrected = v_dw / (1 - beta1**t)\n",
    "        v_db_corrected = v_db / (1 - beta1**t)\n",
    "\n",
    "        # Correct bias in second moment\n",
    "        s_dw_corrected = s_dw / (1 - beta2**t)\n",
    "        s_db_corrected = s_db / (1 - beta2**t)\n",
    "\n",
    "        # Update parameters\n",
    "        w -= learning_rate * v_dw_corrected / (np.sqrt(s_dw_corrected) + epsilon)\n",
    "        b -= learning_rate * v_db_corrected / (np.sqrt(s_db_corrected) + epsilon)\n",
    "\n",
    "\n",
    "        # Record the costs\n",
    "        if i % 100 == 0:\n",
    "            costs.append(cost)\n",
    "            if print_cost:\n",
    "                print(\"Cost after iteration %i: %f\" % (i, cost))\n",
    "\n",
    "    params = {\"w\": w, \"b\": b}\n",
    "    grads = {\"dw\": dw, \"db\": db}\n",
    "\n",
    "    return params, grads, costs\n"
   ]
  },
  {
   "cell_type": "code",
   "execution_count": 31,
   "metadata": {},
   "outputs": [
    {
     "name": "stdout",
     "output_type": "stream",
     "text": [
      "Cost after iteration 0: 0.498269\n",
      "Cost after iteration 100: 0.228961\n",
      "Cost after iteration 200: 0.197705\n",
      "Cost after iteration 300: 0.181215\n",
      "Cost after iteration 400: 0.169480\n",
      "Cost after iteration 500: 0.161149\n",
      "Cost after iteration 600: 0.153891\n",
      "Cost after iteration 700: 0.148325\n",
      "Cost after iteration 800: 0.143346\n",
      "Cost after iteration 900: 0.139337\n"
     ]
    }
   ],
   "source": [
    "params_sgd, _, costs_sgd = optimize_sgd_batch(np.zeros((X_train.shape[1], 1)), 0, X_train.T, Y_train.values.reshape(1, -1), num_iterations=1000, learning_rate=0.01, batch_size=32, print_cost=True)\n"
   ]
  },
  {
   "cell_type": "code",
   "execution_count": 30,
   "metadata": {},
   "outputs": [
    {
     "name": "stdout",
     "output_type": "stream",
     "text": [
      "Cost after iteration 0: 0.693147\n"
     ]
    },
    {
     "name": "stdout",
     "output_type": "stream",
     "text": [
      "Cost after iteration 100: 0.232566\n",
      "Cost after iteration 200: 0.188866\n",
      "Cost after iteration 300: 0.165093\n",
      "Cost after iteration 400: 0.149041\n",
      "Cost after iteration 500: 0.136949\n",
      "Cost after iteration 600: 0.127229\n",
      "Cost after iteration 700: 0.119092\n",
      "Cost after iteration 800: 0.112097\n",
      "Cost after iteration 900: 0.105968\n"
     ]
    }
   ],
   "source": [
    "params_adam, _, costs_adam = optimize_adam(np.zeros((X_train.shape[1], 1)), 0, X_train.T, Y_train.values.reshape(1, -1), num_iterations=1000, learning_rate=0.01, print_cost=True)\n"
   ]
  },
  {
   "cell_type": "markdown",
   "metadata": {},
   "source": [
    "### 3. Plot learning curves and then fit models with different LR's"
   ]
  },
  {
   "cell_type": "code",
   "execution_count": 32,
   "metadata": {},
   "outputs": [
    {
     "data": {
      "image/png": "[encoded data removed]",
      "text/plain": [
       "<Figure size 1200x600 with 1 Axes>"
      ]
     },
     "metadata": {},
     "output_type": "display_data"
    }
   ],
   "source": [
    "# Plot learning curves\n",
    "plt.figure(figsize=(12, 6))\n",
    "plt.plot(costs, label=\"GD\")\n",
    "plt.plot(costs_sgd, label=\"SGD\")\n",
    "plt.plot(costs_adam, label=\"ADAM\")\n",
    "plt.xlabel(\"Iterations (per hundreds)\")\n",
    "plt.ylabel(\"Cost\")\n",
    "plt.title(\"Learning Curves\")\n",
    "plt.legend()\n",
    "plt.show()\n"
   ]
  },
  {
   "cell_type": "code",
   "execution_count": 38,
   "metadata": {},
   "outputs": [
    {
     "data": {
      "application/vnd.jupyter.widget-view+json": {
       "model_id": "2a015d5d934946728991aed91a250827",
       "version_major": 2,
       "version_minor": 0
      },
      "text/plain": [
       "  0%|          | 0/5 [00:00<?, ?it/s]"
      ]
     },
     "metadata": {},
     "output_type": "display_data"
    }
   ],
   "source": [
    "# Define a list of learning rates to try\n",
    "learning_rates = [0.1, 0.01, 0.001, 0.0001, 0.00001]\n",
    "\n",
    "# Initialize dictionaries to store models and their corresponding costs\n",
    "models = {}\n",
    "costs = {}\n",
    "\n",
    "# Fit models for different learning rates\n",
    "for lr in tqdm(learning_rates):\n",
    "    # Initialize weights and biases\n",
    "    initial_w = np.zeros((X_train.shape[1], 1))\n",
    "    initial_b = 0\n",
    "\n",
    "    # Train the model using GD with 300 iterations\n",
    "    params_gd, _, costs_gd = optimize(initial_w, initial_b, X_train.T, Y_train.values.reshape(1, -1), num_iterations=300, learning_rate=lr)\n",
    "\n",
    "    # Store the model parameters and costs\n",
    "    models[f'GD_LR_{lr}'] = params_gd\n",
    "    costs[f'GD_LR_{lr}'] = costs_gd\n",
    "\n",
    "    # Train the model using SGD with batch size 32 and 300 iterations\n",
    "    params_sgd, _, costs_sgd = optimize_sgd_batch(initial_w, initial_b, X_train.T, Y_train.values.reshape(1, -1), num_iterations=300, learning_rate=lr, batch_size=32)\n",
    "\n",
    "    # Store the model parameters and costs\n",
    "    models[f'SGD_LR_{lr}'] = params_sgd\n",
    "    costs[f'SGD_LR_{lr}'] = costs_sgd\n",
    "\n",
    "    # Train the model using ADAM with 300 iterations\n",
    "    params_adam, _, costs_adam = optimize_adam(initial_w, initial_b, X_train.T, Y_train.values.reshape(1, -1), num_iterations=300, learning_rate=lr)\n",
    "\n",
    "    # Store the model parameters and costs\n",
    "    models[f'ADAM_LR_{lr}'] = params_adam\n",
    "    costs[f'ADAM_LR_{lr}'] = costs_adam\n"
   ]
  },
  {
   "cell_type": "markdown",
   "metadata": {},
   "source": [
    "### 4. Comparing accuracy of fitted models"
   ]
  },
  {
   "cell_type": "code",
   "execution_count": 39,
   "metadata": {},
   "outputs": [
    {
     "name": "stdout",
     "output_type": "stream",
     "text": [
      "Model: GD_LR_0.1, Validation Accuracy: 0.6993603411513859\n",
      "Model: SGD_LR_0.1, Validation Accuracy: 0.7110874200426439\n",
      "Model: ADAM_LR_0.1, Validation Accuracy: 0.7121535181236673\n",
      "Model: GD_LR_0.01, Validation Accuracy: 0.7142857142857143\n",
      "Model: SGD_LR_0.01, Validation Accuracy: 0.7153518123667377\n",
      "Model: ADAM_LR_0.01, Validation Accuracy: 0.7142857142857143\n",
      "Model: GD_LR_0.001, Validation Accuracy: 0.7420042643923241\n",
      "Model: SGD_LR_0.001, Validation Accuracy: 0.7398720682302772\n",
      "Model: ADAM_LR_0.001, Validation Accuracy: 0.7366737739872068\n",
      "Model: GD_LR_0.0001, Validation Accuracy: 0.7750533049040512\n",
      "Model: SGD_LR_0.0001, Validation Accuracy: 0.779317697228145\n",
      "Model: ADAM_LR_0.0001, Validation Accuracy: 0.7771855010660981\n",
      "Model: GD_LR_1e-05, Validation Accuracy: 0.732409381663113\n",
      "Model: SGD_LR_1e-05, Validation Accuracy: 0.7377398720682303\n",
      "Model: ADAM_LR_1e-05, Validation Accuracy: 0.7356076759061834\n",
      "\n",
      "Best Model: SGD_LR_0.0001, Validation Accuracy: 0.779317697228145\n"
     ]
    }
   ],
   "source": [
    "# Evaluate models on the validation set and compare their performance\n",
    "best_model = None\n",
    "best_accuracy = 0\n",
    "\n",
    "for model_name, params in models.items():\n",
    "    w, b = params['w'], params['b']\n",
    "\n",
    "    # Predict on validation set\n",
    "    predictions = sigmoid(np.dot(w.T, X_test.T) + b)\n",
    "    predictions = predictions > 0.5  # Convert probabilities to binary predictions\n",
    "\n",
    "    # Calculate accuracy\n",
    "    accuracy = np.mean(predictions == Y_test.values.reshape(1, -1))\n",
    "    print(f\"Model: {model_name}, Validation Accuracy: {accuracy}\")\n",
    "\n",
    "    # Update best model if the current model has higher accuracy\n",
    "    if accuracy > best_accuracy:\n",
    "        best_accuracy = accuracy\n",
    "        best_model = model_name\n",
    "\n",
    "print(f\"\\nBest Model: {best_model}, Validation Accuracy: {best_accuracy}\")\n"
   ]
  }
 ],
 "metadata": {
  "kernelspec": {
   "display_name": "Python 3",
   "language": "python",
   "name": "python3"
  },
  "language_info": {
   "codemirror_mode": {
    "name": "ipython",
    "version": 3
   },
   "file_extension": ".py",
   "mimetype": "text/x-python",
   "name": "python",
   "nbconvert_exporter": "python",
   "pygments_lexer": "ipython3",
   "version": "3.11.4"
  }
 },
 "nbformat": 4,
 "nbformat_minor": 2
}
